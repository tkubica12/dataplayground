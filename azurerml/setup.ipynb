{
  "cells": [
    {
      "cell_type": "markdown",
      "source": [
        "# Setup script"
      ],
      "metadata": {
        "nteract": {
          "transient": {
            "deleting": false
          }
        }
      }
    },
    {
      "cell_type": "markdown",
      "source": [
        "Clone repository - change URL if you have forked repo to your Git"
      ],
      "metadata": {
        "nteract": {
          "transient": {
            "deleting": false
          }
        }
      }
    },
    {
      "cell_type": "code",
      "source": [
        "!git clone https://github.com/tkubica12/dataplayground"
      ],
      "outputs": [
        {
          "output_type": "stream",
          "name": "stdout",
          "text": "Cloning into 'dataplayground'...\nremote: Enumerating objects: 1109, done.\u001b[K\nremote: Counting objects: 100% (38/38), done.\u001b[K\nremote: Compressing objects: 100% (22/22), done.\u001b[K\nremote: Total 1109 (delta 20), reused 24 (delta 15), pack-reused 1071\u001b[K\nReceiving objects: 100% (1109/1109), 648.54 KiB | 709.00 KiB/s, done.\nResolving deltas: 100% (691/691), done.\nUpdating files: 100% (89/89), done.\n"
        }
      ],
      "execution_count": 1,
      "metadata": {
        "jupyter": {
          "source_hidden": false,
          "outputs_hidden": false
        },
        "nteract": {
          "transient": {
            "deleting": false
          }
        }
      }
    },
    {
      "cell_type": "markdown",
      "source": [
        "Optionaly install GitHub CLI to be able to authenticate to GitHub (if you forked repo and need to push changed notebooks back)"
      ],
      "metadata": {
        "nteract": {
          "transient": {
            "deleting": false
          }
        }
      }
    },
    {
      "cell_type": "code",
      "source": [
        "!curl -fsSL https://cli.github.com/packages/githubcli-archive-keyring.gpg | sudo dd of=/usr/share/keyrings/githubcli-archive-keyring.gpg \\\r\n",
        "&& sudo chmod go+r /usr/share/keyrings/githubcli-archive-keyring.gpg \\\r\n",
        "&& echo \"deb [arch=$(dpkg --print-architecture) signed-by=/usr/share/keyrings/githubcli-archive-keyring.gpg] https://cli.github.com/packages stable main\" | sudo tee /etc/apt/sources.list.d/github-cli.list > /dev/null \\\r\n",
        "&& sudo apt update \\\r\n",
        "&& sudo apt install gh -y"
      ],
      "outputs": [
        {
          "output_type": "stream",
          "name": "stdout",
          "text": "4+1 records in\n4+1 records out\n2270 bytes (2.3 kB, 2.2 KiB) copied, 0.38587 s, 5.9 kB/s\nGet:1 file:/var/nccl-repo-2.2.13-ga-cuda9.2  InRelease\nIgn:1 file:/var/nccl-repo-2.2.13-ga-cuda9.2  InRelease\nGet:2 file:/var/nccl-repo-2.2.13-ga-cuda9.2  Release [574 B]\nHit:3 http://ppa.launchpad.net/cran/libgit2/ubuntu focal InRelease             \u001b[0m\nGet:4 https://cli.github.com/packages stable InRelease [3917 B]                \nGet:2 file:/var/nccl-repo-2.2.13-ga-cuda9.2  Release [574 B]                   \u001b[0m\nGet:5 https://packages.microsoft.com/repos/azure-cli focal InRelease [10.4 kB] \nGet:6 http://ppa.launchpad.net/git-core/ppa/ubuntu focal InRelease [23.8 kB]   \nGet:7 https://nvidia.github.io/libnvidia-container/stable/ubuntu18.04/amd64  InRelease [1484 B]\nHit:8 https://nvidia.github.io/nvidia-container-runtime/stable/ubuntu18.04/amd64  InRelease\nHit:9 https://nvidia.github.io/nvidia-docker/ubuntu18.04/amd64  InRelease      \nGet:10 https://storage.googleapis.com/tensorflow-serving-apt stable InRelease [3026 B]\nHit:11 https://apt.repos.intel.com/mkl all InRelease                           \u001b[0m\nHit:12 http://azure.archive.ubuntu.com/ubuntu focal InRelease                  \u001b[0m\nGet:13 http://azure.archive.ubuntu.com/ubuntu focal-updates InRelease [114 kB] \nGet:14 http://azure.archive.ubuntu.com/ubuntu focal-backports InRelease [108 kB]m\nGet:15 http://azure.archive.ubuntu.com/ubuntu focal-security InRelease [114 kB]\nGet:16 https://cloud.r-project.org/bin/linux/ubuntu focal-cran40/ InRelease [3622 B]\nGet:17 https://cli.github.com/packages stable/main amd64 Packages [344 B]\nGet:19 https://packages.microsoft.com/repos/azure-cli focal/main amd64 Packages [9926 B]\nGet:20 http://ppa.launchpad.net/git-core/ppa/ubuntu focal/main amd64 Packages [4232 B]\nGet:21 https://storage.googleapis.com/tensorflow-serving-apt stable/tensorflow-model-server amd64 Packages [340 B]\nGet:22 https://storage.googleapis.com/tensorflow-serving-apt stable/tensorflow-model-server-universal amd64 Packages [349 B]\nGet:23 http://azure.archive.ubuntu.com/ubuntu focal-updates/main amd64 Packages [2267 kB]\nGet:24 http://azure.archive.ubuntu.com/ubuntu focal-updates/main Translation-en [395 kB]\nGet:25 http://azure.archive.ubuntu.com/ubuntu focal-updates/main amd64 c-n-f Metadata [16.1 kB]\nGet:26 http://azure.archive.ubuntu.com/ubuntu focal-updates/restricted amd64 Packages [1473 kB]\nGet:27 http://azure.archive.ubuntu.com/ubuntu focal-updates/restricted Translation-en [208 kB]\nGet:28 http://azure.archive.ubuntu.com/ubuntu focal-updates/restricted amd64 c-n-f Metadata [592 B]\nGet:29 http://azure.archive.ubuntu.com/ubuntu focal-updates/universe amd64 Packages [1008 kB]\nGet:30 http://azure.archive.ubuntu.com/ubuntu focal-updates/universe Translation-en [234 kB]\nGet:31 http://azure.archive.ubuntu.com/ubuntu focal-updates/universe amd64 c-n-f Metadata [23.2 kB]\nGet:32 http://azure.archive.ubuntu.com/ubuntu focal-updates/multiverse amd64 Packages [24.5 kB]\nGet:33 http://azure.archive.ubuntu.com/ubuntu focal-updates/multiverse Translation-en [7380 B]\nGet:34 http://azure.archive.ubuntu.com/ubuntu focal-updates/multiverse amd64 c-n-f Metadata [592 B]\nGet:35 http://azure.archive.ubuntu.com/ubuntu focal-backports/main amd64 Packages [45.7 kB]\nGet:36 http://azure.archive.ubuntu.com/ubuntu focal-backports/main amd64 c-n-f Metadata [1420 B]\nGet:37 http://azure.archive.ubuntu.com/ubuntu focal-backports/universe amd64 Packages [24.9 kB]\nGet:38 http://azure.archive.ubuntu.com/ubuntu focal-backports/universe Translation-en [16.3 kB]\nGet:39 http://azure.archive.ubuntu.com/ubuntu focal-backports/universe amd64 c-n-f Metadata [880 B]\nGet:40 http://azure.archive.ubuntu.com/ubuntu focal-security/main amd64 Packages [1894 kB]\nGet:41 http://azure.archive.ubuntu.com/ubuntu focal-security/main Translation-en [311 kB]\nGet:42 http://azure.archive.ubuntu.com/ubuntu focal-security/main amd64 c-n-f Metadata [11.5 kB]\nGet:43 http://azure.archive.ubuntu.com/ubuntu focal-security/restricted amd64 Packages [1382 kB]\nGet:44 http://azure.archive.ubuntu.com/ubuntu focal-security/restricted Translation-en [196 kB]\nGet:45 http://azure.archive.ubuntu.com/ubuntu focal-security/restricted amd64 c-n-f Metadata [596 B]\nGet:46 http://azure.archive.ubuntu.com/ubuntu focal-security/universe amd64 Packages [777 kB]\nGet:47 http://azure.archive.ubuntu.com/ubuntu focal-security/universe Translation-en [150 kB]\nGet:48 http://azure.archive.ubuntu.com/ubuntu focal-security/universe amd64 c-n-f Metadata [16.9 kB]\nGet:49 http://azure.archive.ubuntu.com/ubuntu focal-security/multiverse amd64 Packages [22.2 kB]\nGet:50 http://azure.archive.ubuntu.com/ubuntu focal-security/multiverse Translation-en [5464 B]\nGet:51 http://azure.archive.ubuntu.com/ubuntu focal-security/multiverse amd64 c-n-f Metadata [516 B]\nGet:52 https://cloud.r-project.org/bin/linux/ubuntu focal-cran40/ Packages [60.8 kB]\nFetched 11.0 MB in 3s (3293 kB/s)[33mm\u001b[33m                        \u001b[0m\u001b[33m\nReading package lists... Done\nBuilding dependency tree       \nReading state information... Done\n107 packages can be upgraded. Run 'apt list --upgradable' to see them.\nReading package lists... Done\nBuilding dependency tree       \nReading state information... Done\nThe following packages were automatically installed and are no longer required:\n  ca-certificates-java cmake-data cuda-command-line-tools-11-3\n  cuda-compiler-11-3 cuda-cudart-11-3 cuda-cudart-dev-11-3 cuda-cuobjdump-11-3\n  cuda-cupti-11-3 cuda-cupti-dev-11-3 cuda-cuxxfilt-11-3\n  cuda-documentation-11-3 cuda-driver-dev-11-3 cuda-gdb-11-3\n  cuda-libraries-11-3 cuda-libraries-dev-11-3 cuda-memcheck-11-3\n  cuda-nsight-11-3 cuda-nsight-compute-11-3 cuda-nsight-systems-11-3\n  cuda-nvcc-11-3 cuda-nvdisasm-11-3 cuda-nvml-dev-11-3 cuda-nvprof-11-3\n  cuda-nvprune-11-3 cuda-nvrtc-11-3 cuda-nvrtc-dev-11-3 cuda-nvtx-11-3\n  cuda-nvvp-11-3 cuda-samples-11-3 cuda-sanitizer-11-3 cuda-thrust-11-3\n  cuda-toolkit-11-3 cuda-toolkit-11-3-config-common\n  cuda-toolkit-11-config-common cuda-toolkit-config-common cuda-tools-11-3\n  cuda-visual-tools-11-3 default-jre default-jre-headless fonts-dejavu-extra\n  java-common libatk-wrapper-java libatk-wrapper-java-jni libcublas-11-3\n  libcublas-dev-11-3 libcufft-11-3 libcufft-dev-11-3 libcurand-11-3\n  libcurand-dev-11-3 libcusolver-11-3 libcusolver-dev-11-3 libcusparse-11-3\n  libcusparse-dev-11-3 libjsoncpp1 libnpp-11-3 libnpp-dev-11-3\n  libnvidia-common-520 libnvjpeg-11-3 libnvjpeg-dev-11-3 libpcsclite1\n  librhash0 nsight-compute-2021.1.1 nsight-systems-2021.1.3 openjdk-11-jre\n  openjdk-11-jre-headless\nUse 'sudo apt autoremove' to remove them.\nThe following NEW packages will be installed:\n  gh\n0 upgraded, 1 newly installed, 0 to remove and 107 not upgraded.\nNeed to get 10.2 MB of archives.\nAfter this operation, 39.5 MB of additional disk space will be used.\nGet:1 https://cli.github.com/packages stable/main amd64 gh amd64 2.20.2 [10.2 MB]\nFetched 10.2 MB in 0s (83.1 MB/s)\n\n\u001b7\u001b[0;23r\u001b8\u001b[1ASelecting previously unselected package gh.\n(Reading database ... 181577 files and directories currently installed.)\nPreparing to unpack .../archives/gh_2.20.2_amd64.deb ...\n\u001b7\u001b[24;0f\u001b[42m\u001b[30mProgress: [  0%]\u001b[49m\u001b[39m [..........................................................] \u001b8\u001b7\u001b[24;0f\u001b[42m\u001b[30mProgress: [ 20%]\u001b[49m\u001b[39m [###########...............................................] \u001b8Unpacking gh (2.20.2) ...\n\u001b7\u001b[24;0f\u001b[42m\u001b[30mProgress: [ 40%]\u001b[49m\u001b[39m [#######################...................................] \u001b8Setting up gh (2.20.2) ...\n\u001b7\u001b[24;0f\u001b[42m\u001b[30mProgress: [ 60%]\u001b[49m\u001b[39m [##################################........................] \u001b8\u001b7\u001b[24;0f\u001b[42m\u001b[30mProgress: [ 80%]\u001b[49m\u001b[39m [##############################################............] \u001b8Processing triggers for man-db (2.9.1-1) ...\n\n\u001b7\u001b[0;24r\u001b8\u001b[1A\u001b[J"
        }
      ],
      "execution_count": 1,
      "metadata": {
        "jupyter": {
          "source_hidden": false,
          "outputs_hidden": false
        },
        "nteract": {
          "transient": {
            "deleting": false
          }
        },
        "gather": {
          "logged": 1670831195447
        }
      }
    },
    {
      "cell_type": "code",
      "source": [
        "!git config --global --add safe.directory \"*\"\r\n",
        "!git config --global user.email \"tkubica12@gmail.com\"\r\n",
        "!git config --global user.name \"Tomas Kubica\""
      ],
      "outputs": [],
      "execution_count": 2,
      "metadata": {
        "jupyter": {
          "source_hidden": false,
          "outputs_hidden": false
        },
        "nteract": {
          "transient": {
            "deleting": false
          }
        }
      }
    },
    {
      "cell_type": "code",
      "source": [],
      "outputs": [],
      "execution_count": null,
      "metadata": {
        "jupyter": {
          "source_hidden": false,
          "outputs_hidden": false
        },
        "nteract": {
          "transient": {
            "deleting": false
          }
        }
      }
    }
  ],
  "metadata": {
    "kernelspec": {
      "name": "python38-azureml",
      "language": "python",
      "display_name": "Python 3.8 - AzureML"
    },
    "language_info": {
      "name": "python",
      "version": "3.8.5",
      "mimetype": "text/x-python",
      "codemirror_mode": {
        "name": "ipython",
        "version": 3
      },
      "pygments_lexer": "ipython3",
      "nbconvert_exporter": "python",
      "file_extension": ".py"
    },
    "kernel_info": {
      "name": "python38-azureml"
    },
    "nteract": {
      "version": "nteract-front-end@1.0.0"
    }
  },
  "nbformat": 4,
  "nbformat_minor": 2
}